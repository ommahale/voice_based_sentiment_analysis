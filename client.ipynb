{
 "cells": [
  {
   "cell_type": "code",
   "execution_count": 4,
   "metadata": {},
   "outputs": [],
   "source": [
    "import keras\n",
    "import numpy as np\n",
    "import librosa\n",
    "model=keras.models.load_model('model.h5')\n",
    "def extract_mfcc(filename):\n",
    "    y,sr=librosa.load(filename,duration=3,offset=0.5)\n",
    "    mfcc=np.mean(librosa.feature.mfcc(y=y,sr=sr,n_mfcc=40).T,axis=0)\n",
    "    return mfcc\n",
    "mfcc=extract_mfcc('test.wav')\n",
    "mfcc=mfcc.reshape(1,40,1)"
   ]
  },
  {
   "cell_type": "code",
   "execution_count": 5,
   "metadata": {},
   "outputs": [
    {
     "data": {
      "text/plain": [
       "array([[[-4.6827075e+02],\n",
       "        [ 1.2173546e+02],\n",
       "        [ 2.3662453e+01],\n",
       "        [-2.8561356e+01],\n",
       "        [ 1.2879642e+00],\n",
       "        [ 9.3539028e+00],\n",
       "        [-3.2251813e+00],\n",
       "        [-4.0723310e+00],\n",
       "        [-1.4063217e+01],\n",
       "        [ 2.3343626e-01],\n",
       "        [-1.4967822e+01],\n",
       "        [-2.5570240e+00],\n",
       "        [-4.0995331e+00],\n",
       "        [-5.5415001e+00],\n",
       "        [ 4.9344859e-01],\n",
       "        [-1.1360227e-01],\n",
       "        [-2.2609453e-01],\n",
       "        [ 6.4170709e+00],\n",
       "        [ 1.5050904e+00],\n",
       "        [-7.7693977e+00],\n",
       "        [-5.9304457e-02],\n",
       "        [ 3.1311240e+00],\n",
       "        [-3.9861727e-01],\n",
       "        [ 5.4739370e+00],\n",
       "        [-7.8829271e-01],\n",
       "        [ 4.8397207e+00],\n",
       "        [ 2.4012091e+00],\n",
       "        [ 8.2452374e+00],\n",
       "        [-2.3619974e+00],\n",
       "        [ 5.6738911e+00],\n",
       "        [-5.0520682e-01],\n",
       "        [ 4.7644157e+00],\n",
       "        [ 4.7915902e+00],\n",
       "        [ 2.5002677e+00],\n",
       "        [ 2.2020783e+00],\n",
       "        [ 6.7344217e+00],\n",
       "        [ 6.9633043e-01],\n",
       "        [ 3.2858422e+00],\n",
       "        [ 5.6400151e+00],\n",
       "        [ 1.1066759e+01]]], dtype=float32)"
      ]
     },
     "execution_count": 5,
     "metadata": {},
     "output_type": "execute_result"
    }
   ],
   "source": [
    "mfcc"
   ]
  },
  {
   "cell_type": "code",
   "execution_count": 20,
   "metadata": {},
   "outputs": [
    {
     "name": "stdout",
     "output_type": "stream",
     "text": [
      "1/1 [==============================] - 0s 24ms/step\n",
      "happy\n"
     ]
    }
   ],
   "source": [
    "for i in model.predict(mfcc):\n",
    "    res=np.argmax(i)\n",
    "    dict={'angry':0,'disgust':1,'fear':2,'happy':3,'neutral':4,'ps':5,'sad':6}\n",
    "    value = [i for i in dict if dict[i]==res]\n",
    "    output=value[0]\n",
    "    print(output)"
   ]
  },
  {
   "cell_type": "code",
   "execution_count": null,
   "metadata": {},
   "outputs": [],
   "source": []
  }
 ],
 "metadata": {
  "kernelspec": {
   "display_name": "venv",
   "language": "python",
   "name": "python3"
  },
  "language_info": {
   "codemirror_mode": {
    "name": "ipython",
    "version": 3
   },
   "file_extension": ".py",
   "mimetype": "text/x-python",
   "name": "python",
   "nbconvert_exporter": "python",
   "pygments_lexer": "ipython3",
   "version": "3.10.6"
  },
  "orig_nbformat": 4
 },
 "nbformat": 4,
 "nbformat_minor": 2
}
